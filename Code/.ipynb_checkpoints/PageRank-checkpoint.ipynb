{
 "cells": [
  {
   "cell_type": "markdown",
   "metadata": {},
   "source": [
    "# Page Rank Algorithm\n",
    "#### Algorithm:\n",
    "<ol>\n",
    "    <li>Initialize page rank of every node with value = 1</li>\n",
    "    <li>For each iteration, update the page rank of every node in the graph</li>\n",
    "    <li>The new page rank is the sum of the proportional rank of all its parents</li>\n",
    "    <li>Apply random walk to the new page rank</li>\n",
    "    <li>Page rank value will converge adter enough iterations</li>\n",
    "    "
   ]
  },
  {
   "cell_type": "code",
   "execution_count": 10,
   "metadata": {},
   "outputs": [],
   "source": [
    "#intializing PageRank Value\n",
    "import os\n",
    "\n",
    "class Node:\n",
    "    def __init__(self):\n",
    "        #self.name = name\n",
    "        self.children = []\n",
    "        self.parents = []\n",
    "        self.auth = 1.0\n",
    "        self.hub = 1.0\n",
    "        self.pagerank = 1.0\n",
    "    \n",
    "    def PageRank_one_iter(graph, d):\n",
    "        node_list = graph.nodes\n",
    "        for node in node_list:\n",
    "            node.update_pagerank(d, len(graph.nodes))\n",
    "            \n",
    "    def update_pagerank(self, d, n):\n",
    "        in_neighbours = self.parents\n",
    "        pagerank_sum = sum((node.pagerank/len(node.children)) for node in in_neighbors)\n",
    "        random_walk = d/n\n",
    "        self.pagerank = random_walk + (1-d)*pagerank_sum\n",
    "    def init_graph(fname):\n",
    "        with open(fname) as f:\n",
    "            lines = f.readlines()"
   ]
  },
  {
   "cell_type": "code",
   "execution_count": 11,
   "metadata": {},
   "outputs": [
    {
     "ename": "TypeError",
     "evalue": "init_graph() takes 1 positional argument but 2 were given",
     "output_type": "error",
     "traceback": [
      "\u001b[1;31m---------------------------------------------------------------------------\u001b[0m",
      "\u001b[1;31mTypeError\u001b[0m                                 Traceback (most recent call last)",
      "\u001b[1;32m<ipython-input-11-aa570729ae45>\u001b[0m in \u001b[0;36m<module>\u001b[1;34m\u001b[0m\n\u001b[0;32m      1\u001b[0m \u001b[1;32mif\u001b[0m \u001b[0m__name__\u001b[0m \u001b[1;33m==\u001b[0m \u001b[1;34m\"__main__\"\u001b[0m\u001b[1;33m:\u001b[0m\u001b[1;33m\u001b[0m\u001b[1;33m\u001b[0m\u001b[0m\n\u001b[0;32m      2\u001b[0m     \u001b[0ma\u001b[0m \u001b[1;33m=\u001b[0m \u001b[0mNode\u001b[0m\u001b[1;33m(\u001b[0m\u001b[1;33m)\u001b[0m\u001b[1;33m\u001b[0m\u001b[1;33m\u001b[0m\u001b[0m\n\u001b[1;32m----> 3\u001b[1;33m     \u001b[0mdata\u001b[0m \u001b[1;33m=\u001b[0m \u001b[0ma\u001b[0m\u001b[1;33m.\u001b[0m\u001b[0minit_graph\u001b[0m\u001b[1;33m(\u001b[0m\u001b[1;34m'./dataset/graph_4.txt'\u001b[0m\u001b[1;33m)\u001b[0m\u001b[1;33m\u001b[0m\u001b[1;33m\u001b[0m\u001b[0m\n\u001b[0m\u001b[0;32m      4\u001b[0m     \u001b[0ma\u001b[0m\u001b[1;33m.\u001b[0m\u001b[0mPageRank_one_iter\u001b[0m\u001b[1;33m(\u001b[0m\u001b[0mdata\u001b[0m\u001b[1;33m,\u001b[0m \u001b[1;36m0.15\u001b[0m\u001b[1;33m)\u001b[0m\u001b[1;33m\u001b[0m\u001b[1;33m\u001b[0m\u001b[0m\n",
      "\u001b[1;31mTypeError\u001b[0m: init_graph() takes 1 positional argument but 2 were given"
     ]
    }
   ],
   "source": [
    "if __name__ == \"__main__\":\n",
    "    a = Node()\n",
    "    data = a.init_graph('./dataset/graph_4.txt')\n",
    "    a.PageRank_one_iter(data, 0.15)"
   ]
  },
  {
   "cell_type": "code",
   "execution_count": null,
   "metadata": {},
   "outputs": [],
   "source": []
  }
 ],
 "metadata": {
  "kernelspec": {
   "display_name": "Python 3",
   "language": "python",
   "name": "python3"
  },
  "language_info": {
   "codemirror_mode": {
    "name": "ipython",
    "version": 3
   },
   "file_extension": ".py",
   "mimetype": "text/x-python",
   "name": "python",
   "nbconvert_exporter": "python",
   "pygments_lexer": "ipython3",
   "version": "3.7.1"
  }
 },
 "nbformat": 4,
 "nbformat_minor": 4
}
